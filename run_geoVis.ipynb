{
 "cells": [
  {
   "cell_type": "code",
   "execution_count": null,
   "id": "ba0e6698",
   "metadata": {},
   "outputs": [],
   "source": [
    "import pandas as pd\n",
    "import geopandas as gpd\n",
    "import plotly.express as px\n",
    "import plotly.graph_objects as go\n",
    "import contextily as cx\n",
    "import plotly\n",
    "from sklearn.metrics import mean_absolute_percentage_error\n",
    "from utils.eval import cv_mean_absolute_error_wAbs"
   ]
  },
  {
   "cell_type": "code",
   "execution_count": 37,
   "id": "bd9c6eaf",
   "metadata": {},
   "outputs": [],
   "source": [
    "def tractLevelMap(geo_df, colorCol, saveAddr):\n",
    "    fig = px.choropleth_mapbox(geo_df,\n",
    "                               geojson = geo_df.geometry,\n",
    "                               locations = geo_df.index,\n",
    "                               color = colorCol,\n",
    "                               color_continuous_scale = 'Blues',\n",
    "                               center = {\"lat\": 33.826512, \"lon\": -118.228486},\n",
    "                               opacity = 0.8,\n",
    "                              )\n",
    "    fig.update_layout(margin={\"r\":0,\"t\":0,\"l\":0,\"b\":0},\n",
    "                      mapbox = {\n",
    "                          'accesstoken': 'pk.eyJ1IjoicHhpeW9oIiwiYSI6ImNsMGoxa3h1bzA4ZHQzaW41NWd6dm16am0ifQ.QywfLC6Ut-EhSZLt7nirqQ',\n",
    "                          'style': \"light\",\n",
    "                      },\n",
    "                     )\n",
    "    fig.write_html(saveAddr)"
   ]
  },
  {
   "cell_type": "code",
   "execution_count": 38,
   "id": "2ab8ed36",
   "metadata": {},
   "outputs": [],
   "source": [
    "# get data on tracts level\n",
    "tracts_estimate = pd.read_csv('./saved/estimates_tracts/energyElec_biLSTM_10PerData_2023-08-15-16-09-06/tractsDF.csv').drop('Unnamed: 0', axis = 1)\n",
    "tracts_estimate.geoid = tracts_estimate.geoid.astype(str)\n",
    "# get tracts geometry\n",
    "tracts_geo = gpd.read_file('./data/geo_data/tract.geojson')\n",
    "tracts_geo['id.tract'] = tracts_geo['id.tract'].str[1:]\n",
    "# combine metric and geo\n",
    "tractMetric = tracts_estimate.groupby('geoid').apply(lambda g: cv_mean_absolute_error_wAbs(g.true, g.estimate)).to_frame('nMAE').reset_index()\n",
    "tractMetricGeo = tractMetric.merge(tracts_geo[['id.tract', 'geometry']], how = 'left', left_on = 'geoid', right_on = 'id.tract').set_index('geoid')\n",
    "tractMetricGeo = gpd.GeoDataFrame(tractMetricGeo, crs = \"EPSG:4326\", geometry = tractMetricGeo.geometry)\n",
    "# draw\n",
    "tractLevelMap(tractMetricGeo, 'nMAE', './paper/figs/map_tractCVMAE.html')"
   ]
  },
  {
   "cell_type": "code",
   "execution_count": null,
   "id": "34f86819",
   "metadata": {},
   "outputs": [],
   "source": []
  },
  {
   "cell_type": "code",
   "execution_count": null,
   "id": "e7f187bc",
   "metadata": {},
   "outputs": [],
   "source": [
    "def vis_climateCoor(climateID, dir_corrMatrix):\n",
    "    # get climate zone geo\n",
    "    climateZone = gpd.read_file('./data/geo_data/coarse_grid.geojson')\n",
    "    climateZone['id.grid.coarse'] = climateZone['id.grid.coarse'].astype(int)\n",
    "    climateZone_geo = climateZone[['id.grid.coarse', 'geometry']]\n",
    "    # get coor for selected climate zone\n",
    "    climateCorr = pd.read_csv(dir_corrMatrix).set_index('Climate')\n",
    "    climateCorrSelect = climateCorr[climateCorr.index == climateID].T.reset_index().rename({'index': 'climate', \n",
    "                                                                                            climateID: 'corr'}, axis = 1)\n",
    "    climateCorrSelect.climate = climateCorrSelect.climate.astype(int)\n",
    "    # merge\n",
    "    climate_merged = climateZone_geo.merge(climateCorrSelect, how = 'right', right_on = 'climate', left_on = 'id.grid.coarse')\n",
    "    # vis\n",
    "    climate_merged.plot(column = 'corr')"
   ]
  },
  {
   "cell_type": "code",
   "execution_count": null,
   "id": "dc97151e",
   "metadata": {},
   "outputs": [],
   "source": [
    "vis_climateCoor(pd.read_csv('./saved/climateCorr/climateCorr.csv').Climate.unique().tolist()[15], \n",
    "                './saved/climateCorr/climateCorr.csv')"
   ]
  },
  {
   "cell_type": "code",
   "execution_count": null,
   "id": "d62bda08",
   "metadata": {},
   "outputs": [],
   "source": []
  },
  {
   "cell_type": "code",
   "execution_count": null,
   "id": "f7e0b562",
   "metadata": {},
   "outputs": [],
   "source": [
    "# draw the grids of microclimate on the city map\n",
    "\n",
    "grid_geo = gpd.read_file('./data/geo_data/coarse_grid.geojson')\n",
    "grid_geo['color'] = 1\n",
    "\n",
    "fig = px.choropleth_mapbox(grid_geo, \n",
    "                           geojson = grid_geo.geometry, \n",
    "                           color = \"color\",\n",
    "                           locations = grid_geo.index,\n",
    "                           color_continuous_scale = \"Viridis\",\n",
    "                           center = {\"lat\": 33.994512, \"lon\": -118.228486},\n",
    "                           opacity = 0.3,\n",
    "                           zoom = 7.8,\n",
    "                          )\n",
    "\n",
    "fig.add_scattermapbox(\n",
    "    lat = grid_geo.geometry.centroid.y.tolist(),\n",
    "    lon = grid_geo.geometry.centroid.x.tolist(),\n",
    "    mode = 'markers+text',\n",
    "    text = grid_geo['id.grid.coarse'].astype(int).astype(str),\n",
    "    marker_size = 0.5,\n",
    "    textfont = dict(size = 12, color = '#3F3F3F'),\n",
    ")\n",
    "fig.update_layout(margin={\"r\":0,\"t\":0,\"l\":0,\"b\":0},\n",
    "                  mapbox = {\n",
    "                      'accesstoken': 'pk.eyJ1IjoicHhpeW9oIiwiYSI6ImNsMGoxa3h1bzA4ZHQzaW41NWd6dm16am0ifQ.QywfLC6Ut-EhSZLt7nirqQ',\n",
    "#                       'style': \"mapbox://styles/diehl/cl9gh775w000014n2jwfncok7\",\n",
    "                      'style': \"light\",\n",
    "                  },\n",
    "                  showlegend = False,\n",
    "                 )\n",
    "fig.data = (fig.data[1],fig.data[0])\n",
    "fig.write_html('./paper/figs/mapGrids.html')"
   ]
  },
  {
   "cell_type": "code",
   "execution_count": null,
   "id": "bb3df949",
   "metadata": {},
   "outputs": [],
   "source": []
  },
  {
   "cell_type": "code",
   "execution_count": null,
   "id": "75135163",
   "metadata": {},
   "outputs": [],
   "source": [
    "# draw a selected census tract on map\n",
    "tract_geo = gpd.read_file('./data/geo_data/tract.geojson')\n",
    "tract_geo_select = tract_geo[tract_geo['id.tract'].astype(float) == 6037621201]\n",
    "tract_geo_select['color'] = [1] * len(tract_geo_select)\n",
    "\n",
    "fig = px.choropleth_mapbox(tract_geo_select, \n",
    "                           geojson = tract_geo_select.geometry, \n",
    "                           color = \"color\",\n",
    "                           locations = tract_geo_select.index,\n",
    "                           color_continuous_scale = \"Viridis\",\n",
    "                           center = {\"lat\": 33.994512, \"lon\": -118.228486},\n",
    "                           opacity = 0.3,\n",
    "                           zoom = 7.8,\n",
    "                          )\n",
    "fig.update_layout(margin={\"r\":0,\"t\":0,\"l\":0,\"b\":0},\n",
    "                  mapbox = {\n",
    "                      'accesstoken': 'pk.eyJ1IjoicHhpeW9oIiwiYSI6ImNsMGoxa3h1bzA4ZHQzaW41NWd6dm16am0ifQ.QywfLC6Ut-EhSZLt7nirqQ',\n",
    "                      'style': \"light\",\n",
    "                  },\n",
    "                  showlegend = False,\n",
    "                 )\n",
    "fig.write_html('./paper/figs/tract6037621201.html')"
   ]
  }
 ],
 "metadata": {
  "kernelspec": {
   "display_name": "Python [conda env:geopandas]",
   "language": "python",
   "name": "conda-env-geopandas-py"
  },
  "language_info": {
   "codemirror_mode": {
    "name": "ipython",
    "version": 3
   },
   "file_extension": ".py",
   "mimetype": "text/x-python",
   "name": "python",
   "nbconvert_exporter": "python",
   "pygments_lexer": "ipython3",
   "version": "3.11.4"
  }
 },
 "nbformat": 4,
 "nbformat_minor": 5
}
