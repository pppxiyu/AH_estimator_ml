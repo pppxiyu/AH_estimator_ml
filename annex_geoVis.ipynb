{
 "cells": [
  {
   "cell_type": "code",
   "execution_count": 1,
   "id": "ba0e6698",
   "metadata": {},
   "outputs": [],
   "source": [
    "import pandas as pd\n",
    "import geopandas as gpd\n",
    "import plotly.express as px\n",
    "import plotly.graph_objects as go\n",
    "import contextily as cx\n",
    "import plotly\n",
    "from sklearn.metrics import mean_absolute_percentage_error"
   ]
  },
  {
   "cell_type": "code",
   "execution_count": 25,
   "id": "bd9c6eaf",
   "metadata": {},
   "outputs": [],
   "source": [
    "def tractLevelMap(geo_df, colorCol, saveAddr, colorScale = 'Blues', colorRange = (0, 10000)):\n",
    "    fig = px.choropleth_mapbox(geo_df,\n",
    "                               geojson = geo_df.geometry,\n",
    "                               locations = geo_df.index,\n",
    "                               color = colorCol,\n",
    "                               color_continuous_scale = colorScale,\n",
    "                               mapbox_style = \"carto-positron\",\n",
    "                               center = {\"lat\": 33.826512, \"lon\": -118.228486},\n",
    "                               opacity = 0.6,\n",
    "                               width = 650,\n",
    "                               height = 1000,\n",
    "                               range_color = colorRange,\n",
    "                              )\n",
    "    fig.update_geos(fitbounds = \"locations\", visible = False)\n",
    "    fig.write_html(saveAddr)"
   ]
  },
  {
   "cell_type": "code",
   "execution_count": 2,
   "id": "2ab8ed36",
   "metadata": {},
   "outputs": [],
   "source": [
    "# get data on tracts level\n",
    "tracts_estimate = pd.read_csv('./saved/estimates_tracts/energyElec_biLSTM_2023-07-21-21-39-29/tractsDF.csv').drop('Unnamed: 0', axis = 1)\n",
    "tracts_estimate.geoid = tracts_estimate.geoid.astype(str)"
   ]
  },
  {
   "cell_type": "code",
   "execution_count": 3,
   "id": "578b67bc",
   "metadata": {},
   "outputs": [],
   "source": [
    "# get tracts geometry\n",
    "tracts_geo = gpd.read_file('./data/geo_data/tract.geojson')\n",
    "tracts_geo['id.tract'] = tracts_geo['id.tract'].str[1:]"
   ]
  },
  {
   "cell_type": "code",
   "execution_count": 26,
   "id": "b59b3291",
   "metadata": {},
   "outputs": [],
   "source": [
    "tractLevelTargetMap(tracts_geo[['id.tract', 'geometry']].merge(tracts_estimate[tracts_estimate.timestamp == '2018-11-01 13:00:00'][['geoid', 'estimate']], \n",
    "                                                               how = 'left',\n",
    "                                                               left_on = 'id.tract',\n",
    "                                                               right_on = 'geoid',\n",
    "                                                              ).set_index('geoid'), \n",
    "               \"estimate\", \n",
    "               './saved/estimates_tracts/energyElec_biLSTM_2023-07-21-21-39-29/tractEstimationMap_110113.html')"
   ]
  },
  {
   "cell_type": "code",
   "execution_count": 27,
   "id": "d0c97093",
   "metadata": {},
   "outputs": [],
   "source": [
    "tractLevelTargetMap(tracts_geo[['id.tract', 'geometry']].merge(tracts_estimate[tracts_estimate.timestamp == '2018-08-01 13:00:00'][['geoid', 'estimate']], \n",
    "                                                               how = 'left',\n",
    "                                                               left_on = 'id.tract',\n",
    "                                                               right_on = 'geoid',\n",
    "                                                              ).set_index('geoid'), \n",
    "               \"estimate\", \n",
    "               './saved/estimates_tracts/energyElec_biLSTM_2023-07-21-21-39-29/tractEstimationMap_080113.html')"
   ]
  },
  {
   "cell_type": "code",
   "execution_count": null,
   "id": "81318fee",
   "metadata": {},
   "outputs": [],
   "source": [
    "vis_tractLevel_mape(tracts_geo[['id.tract', 'geometry']].merge(tracts_estimate.groupby('geoid').apply(lambda g: mean_absolute_percentage_error(g.true, g.estimate)).to_frame('mape').reset_index(), \n",
    "                                                               how = 'left',\n",
    "                                                               left_on = 'id.tract',\n",
    "                                                               right_on = 'geoid',\n",
    "                                                              ).set_index('geoid'), \n",
    "                    'mape', \n",
    "                    './saved/estimates_tracts/energyElec_biLSTM_2023-07-21-21-39-29/coolingLoad_mape.html')"
   ]
  },
  {
   "cell_type": "code",
   "execution_count": 11,
   "id": "3af18b8d",
   "metadata": {},
   "outputs": [],
   "source": []
  },
  {
   "cell_type": "code",
   "execution_count": 12,
   "id": "735c1cbb",
   "metadata": {},
   "outputs": [],
   "source": []
  },
  {
   "cell_type": "code",
   "execution_count": null,
   "id": "4f5f86ad",
   "metadata": {},
   "outputs": [],
   "source": []
  },
  {
   "cell_type": "code",
   "execution_count": null,
   "id": "cd40d1a0",
   "metadata": {},
   "outputs": [],
   "source": []
  },
  {
   "cell_type": "code",
   "execution_count": null,
   "id": "34f86819",
   "metadata": {},
   "outputs": [],
   "source": []
  },
  {
   "cell_type": "code",
   "execution_count": 107,
   "id": "e7f187bc",
   "metadata": {},
   "outputs": [],
   "source": [
    "def vis_climateCoor(climateID, dir_corrMatrix):\n",
    "    # get climate zone geo\n",
    "    climateZone = gpd.read_file('./data/geo_data/coarse_grid.geojson')\n",
    "    climateZone['id.grid.coarse'] = climateZone['id.grid.coarse'].astype(int)\n",
    "    climateZone_geo = climateZone[['id.grid.coarse', 'geometry']]\n",
    "    # get coor for selected climate zone\n",
    "    climateCorr = pd.read_csv(dir_corrMatrix).set_index('Climate')\n",
    "    climateCorrSelect = climateCorr[climateCorr.index == climateID].T.reset_index().rename({'index': 'climate', \n",
    "                                                                                            climateID: 'corr'}, axis = 1)\n",
    "    climateCorrSelect.climate = climateCorrSelect.climate.astype(int)\n",
    "    # merge\n",
    "    climate_merged = climateZone_geo.merge(climateCorrSelect, how = 'right', right_on = 'climate', left_on = 'id.grid.coarse')\n",
    "    # vis\n",
    "    climate_merged.plot(column = 'corr')"
   ]
  },
  {
   "cell_type": "code",
   "execution_count": 193,
   "id": "dc97151e",
   "metadata": {},
   "outputs": [
    {
     "data": {
      "image/png": "[encoded data removed]",
      "text/plain": [
       "<Figure size 640x480 with 1 Axes>"
      ]
     },
     "metadata": {},
     "output_type": "display_data"
    }
   ],
   "source": [
    "vis_climateCoor(pd.read_csv('./saved/climateCorr/climateCorr.csv').Climate.unique().tolist()[15], \n",
    "                './saved/climateCorr/climateCorr.csv')"
   ]
  },
  {
   "cell_type": "code",
   "execution_count": null,
   "id": "d5cda2e3",
   "metadata": {},
   "outputs": [],
   "source": []
  },
  {
   "cell_type": "code",
   "execution_count": null,
   "id": "3306f121",
   "metadata": {},
   "outputs": [],
   "source": []
  },
  {
   "cell_type": "code",
   "execution_count": null,
   "id": "d62bda08",
   "metadata": {},
   "outputs": [],
   "source": []
  },
  {
   "cell_type": "code",
   "execution_count": null,
   "id": "a7ffbc7e",
   "metadata": {},
   "outputs": [],
   "source": []
  },
  {
   "cell_type": "code",
   "execution_count": null,
   "id": "f7e0b562",
   "metadata": {},
   "outputs": [],
   "source": []
  },
  {
   "cell_type": "code",
   "execution_count": null,
   "id": "385b6641",
   "metadata": {},
   "outputs": [],
   "source": []
  },
  {
   "cell_type": "code",
   "execution_count": null,
   "id": "d8e9f7a5",
   "metadata": {},
   "outputs": [],
   "source": []
  },
  {
   "cell_type": "code",
   "execution_count": null,
   "id": "b30f3044",
   "metadata": {},
   "outputs": [],
   "source": []
  },
  {
   "cell_type": "code",
   "execution_count": null,
   "id": "83ff4eae",
   "metadata": {},
   "outputs": [],
   "source": []
  },
  {
   "cell_type": "code",
   "execution_count": null,
   "id": "09aee652",
   "metadata": {},
   "outputs": [],
   "source": []
  },
  {
   "cell_type": "code",
   "execution_count": null,
   "id": "353da675",
   "metadata": {},
   "outputs": [],
   "source": []
  }
 ],
 "metadata": {
  "kernelspec": {
   "display_name": "Python [conda env:geopandas]",
   "language": "python",
   "name": "conda-env-geopandas-py"
  },
  "language_info": {
   "codemirror_mode": {
    "name": "ipython",
    "version": 3
   },
   "file_extension": ".py",
   "mimetype": "text/x-python",
   "name": "python",
   "nbconvert_exporter": "python",
   "pygments_lexer": "ipython3",
   "version": "3.11.4"
  }
 },
 "nbformat": 4,
 "nbformat_minor": 5
}
